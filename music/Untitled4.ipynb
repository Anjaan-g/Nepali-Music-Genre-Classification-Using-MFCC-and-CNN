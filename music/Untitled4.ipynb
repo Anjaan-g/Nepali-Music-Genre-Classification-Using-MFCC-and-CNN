{
 "cells": [
  {
   "cell_type": "code",
   "execution_count": 1,
   "metadata": {},
   "outputs": [
    {
     "name": "stderr",
     "output_type": "stream",
     "text": [
      "/home/prajjwal/anaconda3/envs/machinelearning/lib/python3.6/site-packages/sklearn/externals/joblib/__init__.py:15: DeprecationWarning: sklearn.externals.joblib is deprecated in 0.21 and will be removed in 0.23. Please import this functionality directly from joblib, which can be installed with: pip install joblib. If this warning is raised when loading pickled models, you may need to re-serialize those models with scikit-learn 0.21+.\n",
      "  warnings.warn(msg, category=DeprecationWarning)\n"
     ]
    }
   ],
   "source": [
    "from sklearn.externals import joblib"
   ]
  },
  {
   "cell_type": "code",
   "execution_count": 2,
   "metadata": {},
   "outputs": [
    {
     "name": "stderr",
     "output_type": "stream",
     "text": [
      "Using TensorFlow backend.\n",
      "WARNING: Logging before flag parsing goes to stderr.\n",
      "W0731 11:22:40.211084 139997483325248 deprecation_wrapper.py:119] From /home/prajjwal/anaconda3/envs/machinelearning/lib/python3.6/site-packages/keras/backend/tensorflow_backend.py:517: The name tf.placeholder is deprecated. Please use tf.compat.v1.placeholder instead.\n",
      "\n",
      "W0731 11:22:40.230648 139997483325248 deprecation_wrapper.py:119] From /home/prajjwal/anaconda3/envs/machinelearning/lib/python3.6/site-packages/keras/backend/tensorflow_backend.py:4138: The name tf.random_uniform is deprecated. Please use tf.random.uniform instead.\n",
      "\n",
      "W0731 11:22:40.262321 139997483325248 deprecation_wrapper.py:119] From /home/prajjwal/anaconda3/envs/machinelearning/lib/python3.6/site-packages/keras/backend/tensorflow_backend.py:245: The name tf.get_default_graph is deprecated. Please use tf.compat.v1.get_default_graph instead.\n",
      "\n",
      "W0731 11:22:40.263000 139997483325248 deprecation_wrapper.py:119] From /home/prajjwal/anaconda3/envs/machinelearning/lib/python3.6/site-packages/keras/backend/tensorflow_backend.py:174: The name tf.get_default_session is deprecated. Please use tf.compat.v1.get_default_session instead.\n",
      "\n",
      "W0731 11:22:40.263579 139997483325248 deprecation_wrapper.py:119] From /home/prajjwal/anaconda3/envs/machinelearning/lib/python3.6/site-packages/keras/backend/tensorflow_backend.py:181: The name tf.ConfigProto is deprecated. Please use tf.compat.v1.ConfigProto instead.\n",
      "\n",
      "W0731 11:22:40.339317 139997483325248 deprecation_wrapper.py:119] From /home/prajjwal/anaconda3/envs/machinelearning/lib/python3.6/site-packages/keras/backend/tensorflow_backend.py:1834: The name tf.nn.fused_batch_norm is deprecated. Please use tf.compat.v1.nn.fused_batch_norm instead.\n",
      "\n",
      "W0731 11:22:40.420956 139997483325248 deprecation_wrapper.py:119] From /home/prajjwal/anaconda3/envs/machinelearning/lib/python3.6/site-packages/keras/backend/tensorflow_backend.py:3976: The name tf.nn.max_pool is deprecated. Please use tf.nn.max_pool2d instead.\n",
      "\n",
      "W0731 11:22:40.429398 139997483325248 deprecation.py:506] From /home/prajjwal/anaconda3/envs/machinelearning/lib/python3.6/site-packages/keras/backend/tensorflow_backend.py:3445: calling dropout (from tensorflow.python.ops.nn_ops) with keep_prob is deprecated and will be removed in a future version.\n",
      "Instructions for updating:\n",
      "Please use `rate` instead of `keep_prob`. Rate should be set to `rate = 1 - keep_prob`.\n",
      "W0731 11:22:41.617211 139997483325248 deprecation_wrapper.py:119] From /home/prajjwal/anaconda3/envs/machinelearning/lib/python3.6/site-packages/keras/optimizers.py:790: The name tf.train.Optimizer is deprecated. Please use tf.compat.v1.train.Optimizer instead.\n",
      "\n",
      "W0731 11:22:41.776356 139997483325248 deprecation.py:323] From /home/prajjwal/anaconda3/envs/machinelearning/lib/python3.6/site-packages/tensorflow/python/ops/math_grad.py:1250: add_dispatch_support.<locals>.wrapper (from tensorflow.python.ops.array_ops) is deprecated and will be removed in a future version.\n",
      "Instructions for updating:\n",
      "Use tf.where in 2.0, which has the same broadcast rule as np.where\n"
     ]
    },
    {
     "data": {
      "text/plain": [
       "(None, 256, 256, 3)"
      ]
     },
     "execution_count": 2,
     "metadata": {},
     "output_type": "execute_result"
    }
   ],
   "source": [
    "loaded_model = joblib.load('finalized_CNNmodel.sav')\n",
    "loaded_model.layers[0].input_shape"
   ]
  },
  {
   "cell_type": "code",
   "execution_count": 3,
   "metadata": {},
   "outputs": [
    {
     "name": "stdout",
     "output_type": "stream",
     "text": [
      "Found 360 images belonging to 3 classes.\n"
     ]
    }
   ],
   "source": [
    "from keras.preprocessing.image import ImageDataGenerator\n",
    "train_datagen = ImageDataGenerator(rescale=0)\n",
    "\n",
    "test_datagen = ImageDataGenerator(rescale=0)\n",
    "\n",
    "test_set = test_datagen.flow_from_directory(\n",
    "        'dataset/test',\n",
    "        target_size=(256, 256),\n",
    "        batch_size=32,\n",
    "        color_mode='rgb',\n",
    "        class_mode='categorical')"
   ]
  },
  {
   "cell_type": "code",
   "execution_count": 4,
   "metadata": {},
   "outputs": [
    {
     "data": {
      "text/plain": [
       "array([[1.13911769e-09, 1.00000000e+00, 3.00746997e-11],\n",
       "       [4.23420489e-01, 5.42971939e-05, 5.76525211e-01],\n",
       "       [7.23594785e-01, 5.87321178e-04, 2.75817931e-01],\n",
       "       ...,\n",
       "       [2.65700696e-03, 9.88791227e-01, 8.55176337e-03],\n",
       "       [7.06770341e-04, 9.98672247e-01, 6.20922598e-04],\n",
       "       [9.99983072e-01, 1.69207215e-05, 1.20459775e-08]], dtype=float32)"
      ]
     },
     "execution_count": 4,
     "metadata": {},
     "output_type": "execute_result"
    }
   ],
   "source": [
    "loaded_model.predict_generator(test_set,steps = len(test_set))"
   ]
  },
  {
   "cell_type": "code",
   "execution_count": 5,
   "metadata": {},
   "outputs": [
    {
     "name": "stdout",
     "output_type": "stream",
     "text": [
      "Confusion Matrix\n",
      "[[48 46 26]\n",
      " [40 55 25]\n",
      " [36 50 34]]\n"
     ]
    }
   ],
   "source": [
    "import numpy as np\n",
    "from sklearn.metrics import classification_report, confusion_matrix\n",
    "import matplotlib.pyplot as plt\n",
    "e=test_set.classes\n",
    "Y_pred = loaded_model.predict_generator(test_set,360//32+1)\n",
    "y_pred = np.argmax(Y_pred, axis=1)\n",
    "print('Confusion Matrix')\n",
    "s=confusion_matrix(test_set.classes,y_pred)\n",
    "print(s)"
   ]
  },
  {
   "cell_type": "code",
   "execution_count": 6,
   "metadata": {},
   "outputs": [],
   "source": [
    "loaded_model.compile(loss='categorical_crossentropy',\n",
    "                    optimizer='adam',\n",
    "                    metrics=['accuracy'])\n"
   ]
  },
  {
   "cell_type": "code",
   "execution_count": null,
   "metadata": {},
   "outputs": [],
   "source": []
  },
  {
   "cell_type": "code",
   "execution_count": null,
   "metadata": {},
   "outputs": [],
   "source": []
  },
  {
   "cell_type": "code",
   "execution_count": 7,
   "metadata": {},
   "outputs": [
    {
     "name": "stdout",
     "output_type": "stream",
     "text": [
      "[INFO] evaluating network...\n",
      "              precision    recall  f1-score   support\n",
      "\n",
      "           0       0.34      0.36      0.35       120\n",
      "           1       0.34      0.43      0.38       120\n",
      "           2       0.31      0.21      0.25       120\n",
      "\n",
      "    accuracy                           0.33       360\n",
      "   macro avg       0.33      0.33      0.33       360\n",
      "weighted avg       0.33      0.33      0.33       360\n",
      "\n"
     ]
    }
   ],
   "source": [
    "# make predictions on the testing images, finding the index of the\n",
    "# label with the corresponding largest predicted probability\n",
    "NUM=360\n",
    "BS=32\n",
    "predIdxs = loaded_model.predict_generator(test_set,steps=(NUM // BS) + 1)\n",
    "predIdxs = np.argmax(predIdxs, axis=1)\n",
    "testLabels=test_set.classes\n",
    "target_names=[0,1,2]\n",
    "\n",
    "# show a nicely formatted classification report\n",
    "print(\"[INFO] evaluating network...\")\n",
    "print(classification_report(testLabels, predIdxs,\n",
    "\ttarget_names))\n"
   ]
  },
  {
   "cell_type": "code",
   "execution_count": 18,
   "metadata": {},
   "outputs": [
    {
     "name": "stdout",
     "output_type": "stream",
     "text": [
      "Pop\n"
     ]
    }
   ],
   "source": [
    "#single prediction\n",
    "import numpy as np\n",
    "import cv2\n",
    "from keras.preprocessing import image\n",
    "\n",
    "test_image=image.load_img('music2.png',target_size=(256,256), color_mode='rgb')\n",
    "test_image=image.img_to_array(test_image)\n",
    "test_image=np.expand_dims(test_image,axis=0)\n",
    "result=loaded_model.predict(test_image)\n",
    "genre = np.argmax(result)\n",
    "if(genre == 0):\n",
    "    print('Classical')\n",
    "elif(genre == 1):\n",
    "    print('Dohori')\n",
    "else:\n",
    "    print('Pop')\n",
    "\n",
    "      "
   ]
  },
  {
   "cell_type": "code",
   "execution_count": null,
   "metadata": {},
   "outputs": [],
   "source": []
  }
 ],
 "metadata": {
  "kernelspec": {
   "display_name": "Python 3",
   "language": "python",
   "name": "python3"
  },
  "language_info": {
   "codemirror_mode": {
    "name": "ipython",
    "version": 3
   },
   "file_extension": ".py",
   "mimetype": "text/x-python",
   "name": "python",
   "nbconvert_exporter": "python",
   "pygments_lexer": "ipython3",
   "version": "3.6.8"
  }
 },
 "nbformat": 4,
 "nbformat_minor": 2
}
