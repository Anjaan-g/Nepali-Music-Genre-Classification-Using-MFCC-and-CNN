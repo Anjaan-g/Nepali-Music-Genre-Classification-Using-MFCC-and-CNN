{
 "cells": [
  {
   "cell_type": "code",
   "execution_count": 9,
   "metadata": {},
   "outputs": [
    {
     "name": "stdout",
     "output_type": "stream",
     "text": [
      "1.14.0\n"
     ]
    }
   ],
   "source": [
    "from keras.models import Sequential\n",
    "from keras.layers import Convolution2D, ZeroPadding2D ,BatchNormalization\n",
    "from keras.layers import MaxPooling2D\n",
    "from keras.layers import Flatten\n",
    "from keras.layers import Dense , Dropout\n",
    "import tensorflow as tf\n",
    "print(tf.__version__)\n",
    "import PIL"
   ]
  },
  {
   "cell_type": "code",
   "execution_count": 10,
   "metadata": {},
   "outputs": [],
   "source": [
    "classifier = Sequential()"
   ]
  },
  {
   "cell_type": "code",
   "execution_count": 11,
   "metadata": {},
   "outputs": [
    {
     "name": "stderr",
     "output_type": "stream",
     "text": [
      "W0730 18:50:37.585427 140087561643840 deprecation_wrapper.py:119] From /home/prajjwal/anaconda3/envs/machinelearning/lib/python3.6/site-packages/keras/backend/tensorflow_backend.py:517: The name tf.placeholder is deprecated. Please use tf.compat.v1.placeholder instead.\n",
      "\n",
      "W0730 18:50:37.695472 140087561643840 deprecation_wrapper.py:119] From /home/prajjwal/anaconda3/envs/machinelearning/lib/python3.6/site-packages/keras/backend/tensorflow_backend.py:4138: The name tf.random_uniform is deprecated. Please use tf.random.uniform instead.\n",
      "\n",
      "W0730 18:50:37.783730 140087561643840 deprecation_wrapper.py:119] From /home/prajjwal/anaconda3/envs/machinelearning/lib/python3.6/site-packages/keras/backend/tensorflow_backend.py:174: The name tf.get_default_session is deprecated. Please use tf.compat.v1.get_default_session instead.\n",
      "\n",
      "W0730 18:50:37.784545 140087561643840 deprecation_wrapper.py:119] From /home/prajjwal/anaconda3/envs/machinelearning/lib/python3.6/site-packages/keras/backend/tensorflow_backend.py:181: The name tf.ConfigProto is deprecated. Please use tf.compat.v1.ConfigProto instead.\n",
      "\n",
      "W0730 18:50:38.986131 140087561643840 deprecation_wrapper.py:119] From /home/prajjwal/anaconda3/envs/machinelearning/lib/python3.6/site-packages/keras/backend/tensorflow_backend.py:1834: The name tf.nn.fused_batch_norm is deprecated. Please use tf.compat.v1.nn.fused_batch_norm instead.\n",
      "\n",
      "W0730 18:50:39.144727 140087561643840 deprecation_wrapper.py:119] From /home/prajjwal/anaconda3/envs/machinelearning/lib/python3.6/site-packages/keras/backend/tensorflow_backend.py:3976: The name tf.nn.max_pool is deprecated. Please use tf.nn.max_pool2d instead.\n",
      "\n",
      "W0730 18:50:39.151777 140087561643840 deprecation.py:506] From /home/prajjwal/anaconda3/envs/machinelearning/lib/python3.6/site-packages/keras/backend/tensorflow_backend.py:3445: calling dropout (from tensorflow.python.ops.nn_ops) with keep_prob is deprecated and will be removed in a future version.\n",
      "Instructions for updating:\n",
      "Please use `rate` instead of `keep_prob`. Rate should be set to `rate = 1 - keep_prob`.\n"
     ]
    }
   ],
   "source": [
    "#step1-convolution\n",
    "classifier.add(Convolution2D(16,(2,2),input_shape=(256,256,3),activation='relu'))\n",
    "classifier.add(BatchNormalization(momentum=0.9))\n",
    "classifier.add(Convolution2D(32,(4,4),activation='relu'))\n",
    "\n",
    "#step2-pooling\n",
    "classifier.add(MaxPooling2D((2,2)))\n",
    "\n",
    "#adding second Convolution layer\n",
    "classifier.add(Dropout(0.2))\n",
    "classifier.add(Convolution2D(64,(4,4),activation='relu'))\n",
    "classifier.add(BatchNormalization())\n",
    "classifier.add(Convolution2D(64,(4,2),activation='relu'))\n",
    "classifier.add(BatchNormalization())\n",
    "classifier.add(MaxPooling2D((2,2)))\n",
    "classifier.add(Dropout(0.2))\n",
    "\n",
    "#adding third Convolution layer\n",
    "classifier.add(Convolution2D(64,(4,2),activation='relu'))\n",
    "classifier.add(BatchNormalization())\n",
    "\n",
    "#adding third Convolution layer\n",
    "classifier.add(MaxPooling2D((2,2)))\n",
    "classifier.add(Flatten())\n",
    "\n",
    "#step4-full connection\n",
    "classifier.add(Dense(activation='relu',units=128))\n",
    "\n",
    "classifier.add(BatchNormalization())\n",
    "classifier.add(Dropout(0.2))\n",
    "classifier.add(Dense(activation='relu',units=128))\n",
    "classifier.add(BatchNormalization())\n",
    "classifier.add(Dropout(0.2))\n",
    "classifier.add(Dense(activation='softmax',units=3))"
   ]
  },
  {
   "cell_type": "code",
   "execution_count": 12,
   "metadata": {},
   "outputs": [],
   "source": [
    "#compiling the cnn\n",
    "classifier.compile(optimizer='adam' , loss='categorical_crossentropy',metrics=['accuracy'])"
   ]
  },
  {
   "cell_type": "code",
   "execution_count": 13,
   "metadata": {},
   "outputs": [],
   "source": [
    "#part2- fitting the CNN to the images\n",
    "from keras.preprocessing.image import ImageDataGenerator\n",
    "train_datagen = ImageDataGenerator(rescale=1./255)\n",
    "\n",
    "test_datagen = ImageDataGenerator(rescale=1./255)"
   ]
  },
  {
   "cell_type": "code",
   "execution_count": 14,
   "metadata": {},
   "outputs": [
    {
     "name": "stdout",
     "output_type": "stream",
     "text": [
      "Found 239 images belonging to 3 classes.\n",
      "Found 60 images belonging to 3 classes.\n"
     ]
    }
   ],
   "source": [
    "training_set = train_datagen.flow_from_directory('DS/train',\n",
    "        target_size=(256,256),\n",
    "        batch_size=32,\n",
    "        color_mode='rgb',\n",
    "        class_mode='categorical')\n",
    "\n",
    "test_set = test_datagen.flow_from_directory(\n",
    "        'DS/test',\n",
    "        target_size=(256,256),\n",
    "        batch_size=32,\n",
    "        color_mode='rgb',\n",
    "        class_mode='categorical')\n"
   ]
  },
  {
   "cell_type": "code",
   "execution_count": 15,
   "metadata": {},
   "outputs": [
    {
     "name": "stderr",
     "output_type": "stream",
     "text": [
      "W0730 18:50:40.351485 140087561643840 deprecation.py:323] From /home/prajjwal/anaconda3/envs/machinelearning/lib/python3.6/site-packages/tensorflow/python/ops/math_grad.py:1250: add_dispatch_support.<locals>.wrapper (from tensorflow.python.ops.array_ops) is deprecated and will be removed in a future version.\n",
      "Instructions for updating:\n",
      "Use tf.where in 2.0, which has the same broadcast rule as np.where\n"
     ]
    },
    {
     "name": "stdout",
     "output_type": "stream",
     "text": [
      "Epoch 1/10\n",
      "50/50 [==============================] - 401s 8s/step - loss: 0.5972 - acc: 0.8029 - val_loss: 1.8826 - val_acc: 0.6500\n",
      "Epoch 2/10\n",
      "50/50 [==============================] - 264s 5s/step - loss: 0.1240 - acc: 0.9691 - val_loss: 0.8327 - val_acc: 0.7000\n",
      "Epoch 3/10\n",
      "50/50 [==============================] - 266s 5s/step - loss: 0.0664 - acc: 0.9886 - val_loss: 1.2106 - val_acc: 0.6833\n",
      "Epoch 4/10\n",
      "50/50 [==============================] - 267s 5s/step - loss: 0.0446 - acc: 0.9879 - val_loss: 1.6829 - val_acc: 0.6167\n",
      "Epoch 5/10\n",
      "50/50 [==============================] - 268s 5s/step - loss: 0.0163 - acc: 0.9981 - val_loss: 1.4735 - val_acc: 0.5500\n",
      "Epoch 6/10\n",
      "50/50 [==============================] - 268s 5s/step - loss: 0.0390 - acc: 0.9911 - val_loss: 2.7921 - val_acc: 0.5500\n",
      "Epoch 7/10\n",
      "50/50 [==============================] - 263s 5s/step - loss: 0.0373 - acc: 0.9886 - val_loss: 4.4028 - val_acc: 0.5000\n",
      "Epoch 8/10\n",
      "50/50 [==============================] - 266s 5s/step - loss: 0.0162 - acc: 0.9969 - val_loss: 1.5690 - val_acc: 0.6167\n",
      "Epoch 9/10\n",
      "50/50 [==============================] - 306s 6s/step - loss: 0.0106 - acc: 0.9981 - val_loss: 0.8329 - val_acc: 0.7500\n",
      "Epoch 10/10\n",
      "50/50 [==============================] - 461s 9s/step - loss: 0.0251 - acc: 0.9924 - val_loss: 1.0337 - val_acc: 0.7500\n"
     ]
    }
   ],
   "source": [
    "H=classifier.fit_generator(training_set,\n",
    "        steps_per_epoch=50,\n",
    "        epochs=10,\n",
    "        validation_data=test_set,\n",
    "        validation_steps=20)"
   ]
  },
  {
   "cell_type": "code",
   "execution_count": 16,
   "metadata": {},
   "outputs": [],
   "source": [
    "import pickle\n",
    "saved_model = pickle.dumps('classifier')"
   ]
  },
  {
   "cell_type": "code",
   "execution_count": 17,
   "metadata": {},
   "outputs": [],
   "source": [
    "load_model = pickle.loads(saved_model)"
   ]
  },
  {
   "cell_type": "code",
   "execution_count": 19,
   "metadata": {},
   "outputs": [],
   "source": [
    "classifier.save('my_model.h5')\n"
   ]
  },
  {
   "cell_type": "code",
   "execution_count": 21,
   "metadata": {},
   "outputs": [],
   "source": [
    "fname = \"my_model.h5\"\n",
    "classifier.load_weights(fname)"
   ]
  },
  {
   "cell_type": "code",
   "execution_count": 22,
   "metadata": {},
   "outputs": [
    {
     "name": "stdout",
     "output_type": "stream",
     "text": [
      "_________________________________________________________________\n",
      "Layer (type)                 Output Shape              Param #   \n",
      "=================================================================\n",
      "conv2d_1 (Conv2D)            (None, 255, 255, 16)      208       \n",
      "_________________________________________________________________\n",
      "batch_normalization_1 (Batch (None, 255, 255, 16)      64        \n",
      "_________________________________________________________________\n",
      "conv2d_2 (Conv2D)            (None, 252, 252, 32)      8224      \n",
      "_________________________________________________________________\n",
      "max_pooling2d_1 (MaxPooling2 (None, 126, 126, 32)      0         \n",
      "_________________________________________________________________\n",
      "dropout_1 (Dropout)          (None, 126, 126, 32)      0         \n",
      "_________________________________________________________________\n",
      "conv2d_3 (Conv2D)            (None, 123, 123, 64)      32832     \n",
      "_________________________________________________________________\n",
      "batch_normalization_2 (Batch (None, 123, 123, 64)      256       \n",
      "_________________________________________________________________\n",
      "conv2d_4 (Conv2D)            (None, 120, 122, 64)      32832     \n",
      "_________________________________________________________________\n",
      "batch_normalization_3 (Batch (None, 120, 122, 64)      256       \n",
      "_________________________________________________________________\n",
      "max_pooling2d_2 (MaxPooling2 (None, 60, 61, 64)        0         \n",
      "_________________________________________________________________\n",
      "dropout_2 (Dropout)          (None, 60, 61, 64)        0         \n",
      "_________________________________________________________________\n",
      "conv2d_5 (Conv2D)            (None, 57, 60, 64)        32832     \n",
      "_________________________________________________________________\n",
      "batch_normalization_4 (Batch (None, 57, 60, 64)        256       \n",
      "_________________________________________________________________\n",
      "max_pooling2d_3 (MaxPooling2 (None, 28, 30, 64)        0         \n",
      "_________________________________________________________________\n",
      "flatten_1 (Flatten)          (None, 53760)             0         \n",
      "_________________________________________________________________\n",
      "dense_1 (Dense)              (None, 128)               6881408   \n",
      "_________________________________________________________________\n",
      "batch_normalization_5 (Batch (None, 128)               512       \n",
      "_________________________________________________________________\n",
      "dropout_3 (Dropout)          (None, 128)               0         \n",
      "_________________________________________________________________\n",
      "dense_2 (Dense)              (None, 128)               16512     \n",
      "_________________________________________________________________\n",
      "batch_normalization_6 (Batch (None, 128)               512       \n",
      "_________________________________________________________________\n",
      "dropout_4 (Dropout)          (None, 128)               0         \n",
      "_________________________________________________________________\n",
      "dense_3 (Dense)              (None, 3)                 387       \n",
      "=================================================================\n",
      "Total params: 7,007,091\n",
      "Trainable params: 7,006,163\n",
      "Non-trainable params: 928\n",
      "_________________________________________________________________\n"
     ]
    }
   ],
   "source": [
    "classifier.summary()"
   ]
  },
  {
   "cell_type": "code",
   "execution_count": 23,
   "metadata": {},
   "outputs": [
    {
     "data": {
      "text/plain": [
       "array([[1.5158136e-03, 9.9817467e-01, 3.0954534e-04],\n",
       "       [9.9904484e-01, 1.8869690e-05, 9.3633472e-04],\n",
       "       [8.8087516e-04, 9.9879044e-01, 3.2876278e-04],\n",
       "       [8.5306738e-04, 5.7514982e-05, 9.9908948e-01],\n",
       "       [8.7093270e-01, 1.1862266e-03, 1.2788114e-01],\n",
       "       [9.0857542e-01, 1.4591255e-03, 8.9965373e-02],\n",
       "       [6.2016714e-01, 3.4464322e-06, 3.7982932e-01],\n",
       "       [3.3824807e-03, 9.9479997e-01, 1.8175386e-03],\n",
       "       [3.4781080e-03, 9.9521351e-01, 1.3083885e-03],\n",
       "       [2.5232943e-02, 3.1133384e-01, 6.6343325e-01],\n",
       "       [4.8325571e-01, 3.9554192e-03, 5.1278883e-01],\n",
       "       [1.4059837e-01, 8.5382509e-01, 5.5764890e-03],\n",
       "       [9.9998081e-01, 1.4822892e-10, 1.9251185e-05],\n",
       "       [7.8396007e-02, 8.3444041e-01, 8.7163530e-02],\n",
       "       [9.9709058e-01, 1.0952190e-08, 2.9094508e-03],\n",
       "       [1.9473324e-02, 9.7674233e-01, 3.7842533e-03],\n",
       "       [1.8505567e-03, 9.9667573e-01, 1.4737576e-03],\n",
       "       [6.9850758e-02, 9.0051150e-01, 2.9637722e-02],\n",
       "       [9.7855592e-01, 2.1110936e-06, 2.1441963e-02],\n",
       "       [1.6303661e-03, 9.9794775e-01, 4.2182664e-04],\n",
       "       [8.5598511e-01, 2.0916797e-17, 1.4401489e-01],\n",
       "       [9.9991107e-01, 1.1306629e-10, 8.8940877e-05],\n",
       "       [8.9196283e-01, 7.8491904e-02, 2.9545244e-02],\n",
       "       [9.9999881e-01, 2.5191679e-10, 1.2514165e-06],\n",
       "       [1.5133032e-02, 9.8444867e-01, 4.1842833e-04],\n",
       "       [1.8791696e-03, 9.9110842e-01, 7.0124478e-03],\n",
       "       [3.5802299e-11, 0.0000000e+00, 1.0000000e+00],\n",
       "       [1.4571012e-03, 9.9811399e-01, 4.2896892e-04],\n",
       "       [1.5133032e-02, 9.8444867e-01, 4.1842833e-04],\n",
       "       [1.7208344e-21, 0.0000000e+00, 1.0000000e+00],\n",
       "       [8.7093270e-01, 1.1862266e-03, 1.2788114e-01],\n",
       "       [8.9196283e-01, 7.8491904e-02, 2.9545244e-02],\n",
       "       [8.8087516e-04, 9.9879044e-01, 3.2876278e-04],\n",
       "       [1.4571012e-03, 9.9811399e-01, 4.2896892e-04],\n",
       "       [4.5842840e-03, 9.9458683e-01, 8.2889223e-04],\n",
       "       [3.5802299e-11, 0.0000000e+00, 1.0000000e+00],\n",
       "       [3.3824807e-03, 9.9479997e-01, 1.8175386e-03],\n",
       "       [4.8325571e-01, 3.9554192e-03, 5.1278883e-01],\n",
       "       [9.9998105e-01, 6.5459652e-08, 1.8819679e-05],\n",
       "       [1.6303661e-03, 9.9794775e-01, 4.2182664e-04],\n",
       "       [1.6848552e-01, 4.8401159e-09, 8.3151448e-01],\n",
       "       [9.9823320e-01, 5.9729501e-07, 1.7661795e-03],\n",
       "       [9.9709058e-01, 1.0952190e-08, 2.9094508e-03],\n",
       "       [9.7855592e-01, 2.1110936e-06, 2.1441963e-02],\n",
       "       [2.8580816e-03, 9.9628311e-01, 8.5884926e-04],\n",
       "       [2.5232943e-02, 3.1133384e-01, 6.6343325e-01],\n",
       "       [3.1733929e-05, 9.9993002e-01, 3.8276383e-05],\n",
       "       [3.4781080e-03, 9.9521351e-01, 1.3083885e-03],\n",
       "       [1.8791696e-03, 9.9110842e-01, 7.0124478e-03],\n",
       "       [7.3951548e-01, 2.3596054e-01, 2.4524001e-02],\n",
       "       [9.9991155e-01, 3.3520571e-09, 8.8502122e-05],\n",
       "       [9.9997807e-01, 4.5131776e-14, 2.1979738e-05],\n",
       "       [9.9999881e-01, 2.5191679e-10, 1.2514165e-06],\n",
       "       [6.9272369e-01, 2.3994043e-10, 3.0727631e-01],\n",
       "       [1.1229797e-02, 9.8491561e-01, 3.8545690e-03],\n",
       "       [1.4174336e-03, 9.9745089e-01, 1.1316312e-03],\n",
       "       [1.1505985e-02, 9.8757100e-01, 9.2295662e-04],\n",
       "       [9.9167538e-01, 5.0521566e-04, 7.8193080e-03],\n",
       "       [9.4075489e-01, 3.7827630e-11, 5.9245080e-02],\n",
       "       [2.8228158e-01, 1.1081281e-03, 7.1661031e-01]], dtype=float32)"
      ]
     },
     "execution_count": 23,
     "metadata": {},
     "output_type": "execute_result"
    }
   ],
   "source": [
    "classifier.predict_generator(test_set,steps = len(test_set))"
   ]
  },
  {
   "cell_type": "code",
   "execution_count": 31,
   "metadata": {},
   "outputs": [
    {
     "name": "stdout",
     "output_type": "stream",
     "text": [
      "Confusion Matrix\n",
      "[[ 9  8  3]\n",
      " [ 6 11  3]\n",
      " [ 7  9  4]]\n"
     ]
    }
   ],
   "source": [
    "import numpy as np\n",
    "from sklearn.metrics import classification_report, confusion_matrix\n",
    "import matplotlib.pyplot as plt\n",
    "e=test_set.classes\n",
    "Y_pred = classifier.predict_generator(test_set,60 // 32+1)\n",
    "y_pred = np.argmax(Y_pred, axis=1)\n",
    "print('Confusion Matrix')\n",
    "s=confusion_matrix(e,y_pred) \n",
    "print(s)"
   ]
  }
 ],
 "metadata": {
  "kernelspec": {
   "display_name": "Python 3",
   "language": "python",
   "name": "python3"
  },
  "language_info": {
   "codemirror_mode": {
    "name": "ipython",
    "version": 3
   },
   "file_extension": ".py",
   "mimetype": "text/x-python",
   "name": "python",
   "nbconvert_exporter": "python",
   "pygments_lexer": "ipython3",
   "version": "3.6.8"
  }
 },
 "nbformat": 4,
 "nbformat_minor": 2
}
